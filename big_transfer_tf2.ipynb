{
  "nbformat": 4,
  "nbformat_minor": 0,
  "metadata": {
    "colab": {
      "name": "big_transfer_tf2",
      "provenance": [],
      "collapsed_sections": [],
      "machine_shape": "hm",
      "include_colab_link": true
    },
    "kernelspec": {
      "name": "python3",
      "display_name": "Python 3"
    },
    "accelerator": "GPU"
  },
  "cells": [
    {
      "cell_type": "markdown",
      "metadata": {
        "id": "view-in-github",
        "colab_type": "text"
      },
      "source": [
        "<a href=\"https://colab.research.google.com/github/barksdaleaz/big_transfer/blob/master/big_transfer_tf2.ipynb\" target=\"_parent\"><img src=\"https://colab.research.google.com/assets/colab-badge.svg\" alt=\"Open In Colab\"/></a>"
      ]
    },
    {
      "cell_type": "markdown",
      "metadata": {
        "id": "ClOqe_6GHB_3"
      },
      "source": [
        "##### Copyright 2020 Google LLC.\n",
        "\n"
      ]
    },
    {
      "cell_type": "code",
      "metadata": {
        "id": "PHsFiv-UHFBq",
        "cellView": "form"
      },
      "source": [
        "#@title Licensed under the Apache License, Version 2.0 (the \"License\");\n",
        "# Licensed under the Apache License, Version 2.0 (the \"License\");\n",
        "# you may not use this file except in compliance with the License.\n",
        "# You may obtain a copy of the License at\n",
        "#\n",
        "# https://www.apache.org/licenses/LICENSE-2.0\n",
        "#\n",
        "# Unless required by applicable law or agreed to in writing, software\n",
        "# distributed under the License is distributed on an \"AS IS\" BASIS,\n",
        "# WITHOUT WARRANTIES OR CONDITIONS OF ANY KIND, either express or implied.\n",
        "# See the License for the specific language governing permissions and\n",
        "# limitations under the License."
      ],
      "execution_count": null,
      "outputs": []
    },
    {
      "cell_type": "markdown",
      "metadata": {
        "id": "view-in-github"
      },
      "source": [
        "<a href=\"https://colab.research.google.com/github/google-research/big_transfer/blob/master/colabs/big_transfer_tf2.ipynb\" target=\"_parent\"><img src=\"https://colab.research.google.com/assets/colab-badge.svg\" alt=\"Open In Colab\"/></a>\n"
      ]
    },
    {
      "cell_type": "markdown",
      "metadata": {
        "id": "GXY0spPLdxkX"
      },
      "source": [
        "# BigTransfer (BiT): A step-by-step tutorial for state-of-the-art vision\n",
        "\n",
        "By Jessica Yung and Joan Puigcerver\n",
        "\n",
        "In this colab, we will show you how to load one of our BiT models (a ResNet50 trained on ImageNet-21k), use it out-of-the-box and fine-tune it on a dataset of flowers.\n",
        "\n",
        "This colab accompanies our [TensorFlow blog post](https://ai.googleblog.com/2020/05/open-sourcing-bit-exploring-large-scale.html) and is based on the [BigTransfer paper](https://arxiv.org/abs/1912.11370).\n",
        "\n",
        "The models from the paper can be found on [TensorFlow Hub](https://tfhub.dev/google/collections/bit/1) and additional models obtained by finetuning BiT-m in more specific sets of data can be found [here](https://tfhub.dev/google/collections/experts/bit/1).\n",
        "We also share code to fine-tune our models in TensorFlow2, JAX and PyTorch in [our GitHub repository](https://github.com/google-research/big_transfer).\n"
      ]
    },
    {
      "cell_type": "code",
      "metadata": {
        "id": "pitZxiw5hHYq"
      },
      "source": [
        "#@title Imports\n",
        "import tensorflow as tf\n",
        "import tensorflow_hub as hub\n",
        "\n",
        "import tensorflow_datasets as tfds\n",
        "\n",
        "import time\n",
        "\n",
        "from PIL import Image\n",
        "import requests\n",
        "from io import BytesIO\n",
        "\n",
        "import matplotlib.pyplot as plt\n",
        "import numpy as np\n",
        "\n",
        "import os\n",
        "import pathlib"
      ],
      "execution_count": null,
      "outputs": []
    },
    {
      "cell_type": "code",
      "metadata": {
        "id": "7i3p4Zmr0J0X",
        "colab": {
          "base_uri": "https://localhost:8080/"
        },
        "outputId": "def47b76-ff43-44db-93b9-f881e08d9e36"
      },
      "source": [
        "#@title Construct imagenet logit-to-class-name dictionary (imagenet_int_to_str)\n",
        "\n",
        "!wget https://storage.googleapis.com/bit_models/ilsvrc2012_wordnet_lemmas.txt\n",
        "\n",
        "imagenet_int_to_str = {}\n",
        "\n",
        "with open('ilsvrc2012_wordnet_lemmas.txt', 'r') as f:\n",
        "  for i in range(1000):\n",
        "    row = f.readline()\n",
        "    row = row.rstrip()\n",
        "    imagenet_int_to_str.update({i: row})"
      ],
      "execution_count": null,
      "outputs": [
        {
          "output_type": "stream",
          "text": [
            "--2021-03-03 03:09:32--  https://storage.googleapis.com/bit_models/ilsvrc2012_wordnet_lemmas.txt\n",
            "Resolving storage.googleapis.com (storage.googleapis.com)... 173.194.215.128, 173.194.216.128, 173.194.217.128, ...\n",
            "Connecting to storage.googleapis.com (storage.googleapis.com)|173.194.215.128|:443... connected.\n",
            "HTTP request sent, awaiting response... 200 OK\n",
            "Length: 21675 (21K) [text/plain]\n",
            "Saving to: ‘ilsvrc2012_wordnet_lemmas.txt’\n",
            "\n",
            "ilsvrc2012_wordnet_ 100%[===================>]  21.17K  --.-KB/s    in 0s      \n",
            "\n",
            "2021-03-03 03:09:32 (114 MB/s) - ‘ilsvrc2012_wordnet_lemmas.txt’ saved [21675/21675]\n",
            "\n"
          ],
          "name": "stdout"
        }
      ]
    },
    {
      "cell_type": "code",
      "metadata": {
        "id": "Ux5aXCVm8rxn"
      },
      "source": [
        ""
      ],
      "execution_count": null,
      "outputs": []
    },
    {
      "cell_type": "code",
      "metadata": {
        "id": "I3DBgilDnevv"
      },
      "source": [
        "#@title cifar-10 label names (hidden)\n",
        "cifar_10_labels = ['airplane', 'automobile', 'bird', 'cat', 'deer', 'dog', 'frog', 'horse', 'ship', 'truck']"
      ],
      "execution_count": null,
      "outputs": []
    },
    {
      "cell_type": "markdown",
      "metadata": {
        "id": "W97ueEAtk9k4"
      },
      "source": [
        "# Load the pre-trained BiT model"
      ]
    },
    {
      "cell_type": "markdown",
      "metadata": {
        "id": "Jw8LOz3NgNG3"
      },
      "source": [
        "First, we will load a pre-trained BiT model. There are ten models you can choose from, spanning two upstream training datasets and five ResNet architectures.\n",
        "\n",
        "In this tutorial, we will use a ResNet50x1 model trained on ImageNet-21k."
      ]
    },
    {
      "cell_type": "markdown",
      "metadata": {
        "id": "KRd5i7iEIBz9"
      },
      "source": [
        "### Where to find the models\n",
        "\n",
        "Models that output image features (pre-logit layer) can be found at\n",
        "* `https://tfhub.dev/google/bit/m-{archi, e.g. r50x1}/1`\n",
        "\n",
        "whereas models that return outputs in the Imagenet  (ILSVRC-2012) label space can be found at \n",
        "\n",
        "* `https://tfhub.dev/google/bit/m-{archi, e.g. r50x1}/ilsvrc2012_classification/1`\n",
        "\n",
        "The architectures we have include R50x1, R50x3, R101x1, R101x3 and R152x4. The architectures are all in lowercase in the links.\n",
        "\n",
        "So for example, if you want image features from a ResNet-50, you could use the model at `https://tfhub.dev/google/bit/m-r50x1/1`. This is also the model  we'll use in this tutorial."
      ]
    },
    {
      "cell_type": "code",
      "metadata": {
        "id": "1i8HCwx28Ya2"
      },
      "source": [
        "# Load model into KerasLayer\n",
        "model_url = \"https://tfhub.dev/google/bit/m-r50x3/1\"\n",
        "module = hub.KerasLayer(model_url)"
      ],
      "execution_count": null,
      "outputs": []
    },
    {
      "cell_type": "markdown",
      "metadata": {
        "id": "xxaRZvbTnUPI"
      },
      "source": [
        "## Use BiT out-of-the-box\n",
        "\n",
        "If you don’t yet have labels for your images (or just want to have some fun), you may be interested in using the model out-of-the-box, i.e. without fine-tuning it. For this, we will use a model fine-tuned on ImageNet so it has the interpretable ImageNet label space of 1k classes. Many common objects are not covered, but it gives a reasonable idea of what is in the image. "
      ]
    },
    {
      "cell_type": "code",
      "metadata": {
        "id": "hf9Rt79MxwKC"
      },
      "source": [
        "# Load model fine-tuned on ImageNet\n",
        "model_url = \"https://tfhub.dev/google/bit/m-r50x1/ilsvrc2012_classification/1\"\n",
        "imagenet_module = hub.KerasLayer(model_url)"
      ],
      "execution_count": null,
      "outputs": []
    },
    {
      "cell_type": "markdown",
      "metadata": {
        "id": "xuAUqyWbx3Vn"
      },
      "source": [
        "Using the model is very simple:\n",
        "```\n",
        "logits = module(image)\n",
        "```\n",
        "\n",
        "Note that the BiT models take inputs of shape [?, ?, 3] (i.e. 3 colour channels) with values between 0 and 1."
      ]
    },
    {
      "cell_type": "code",
      "metadata": {
        "id": "ewOVUVsvnSpo"
      },
      "source": [
        "#@title Helper functions for loading image (hidden)\n",
        "\n",
        "def preprocess_image(image):\n",
        "  image = np.array(image)\n",
        "  # reshape into shape [batch_size, height, width, num_channels]\n",
        "  img_reshaped = tf.reshape(image, [1, image.shape[0], image.shape[1], image.shape[2]])\n",
        "  # Use `convert_image_dtype` to convert to floats in the [0,1] range.\n",
        "  image = tf.image.convert_image_dtype(img_reshaped, tf.float32)  \n",
        "  return image\n",
        "\n",
        "def load_image_from_url(url):\n",
        "  \"\"\"Returns an image with shape [1, height, width, num_channels].\"\"\"\n",
        "  response = requests.get(url)\n",
        "  image = Image.open(BytesIO(response.content))\n",
        "  image = preprocess_image(image)\n",
        "  return image"
      ],
      "execution_count": null,
      "outputs": []
    },
    {
      "cell_type": "code",
      "metadata": {
        "id": "P8fDpUyl75pT"
      },
      "source": [
        "#@title Plotting helper functions (hidden)\n",
        "#@markdown Credits to Xiaohua Zhai, Lucas Beyer and Alex Kolesnikov from Brain Zurich, Google Research\n",
        "\n",
        "# Show the MAX_PREDS highest scoring labels:\n",
        "MAX_PREDS = 5\n",
        "# Do not show labels with lower score than this:\n",
        "MIN_SCORE = 0.8 \n",
        "\n",
        "def show_preds(logits, image, correct_cifar_label=None, cifar_logits=False):\n",
        "\n",
        "  if len(logits.shape) > 1:\n",
        "    logits = tf.reshape(logits, [-1])\n",
        "\n",
        "  fig, axes = plt.subplots(1, 2, figsize=(7, 4), squeeze=False)\n",
        "\n",
        "  ax1, ax2 = axes[0]\n",
        "\n",
        "  ax1.axis('off')\n",
        "  ax1.imshow(image)\n",
        "  if correct_cifar_label is not None:\n",
        "    ax1.set_title(cifar_10_labels[correct_cifar_label])\n",
        "  classes = []\n",
        "  scores = []\n",
        "  logits_max = np.max(logits)\n",
        "  softmax_denominator = np.sum(np.exp(logits - logits_max))\n",
        "  for index, j in enumerate(np.argsort(logits)[-MAX_PREDS::][::-1]):\n",
        "    score = 1.0/(1.0 + np.exp(-logits[j]))\n",
        "    if score < MIN_SCORE: break\n",
        "    if not cifar_logits:\n",
        "      # predicting in imagenet label space\n",
        "      classes.append(imagenet_int_to_str[j])\n",
        "    else:\n",
        "      # predicting in tf_flowers label space\n",
        "      classes.append(cifar_10_labels[j])\n",
        "    scores.append(np.exp(logits[j] - logits_max)/softmax_denominator*100)\n",
        "\n",
        "  ax2.barh(np.arange(len(scores)) + 0.1, scores)\n",
        "  ax2.set_xlim(0, 100)\n",
        "  ax2.set_yticks(np.arange(len(scores)))\n",
        "  ax2.yaxis.set_ticks_position('right')\n",
        "  ax2.set_yticklabels(classes, rotation=0, fontsize=14)\n",
        "  ax2.invert_xaxis()\n",
        "  ax2.invert_yaxis()\n",
        "  ax2.set_xlabel('Prediction probabilities', fontsize=11)"
      ],
      "execution_count": null,
      "outputs": []
    },
    {
      "cell_type": "markdown",
      "metadata": {
        "id": "IJU2ecwvqiQQ"
      },
      "source": [
        "**TODO: try replacing the URL below with a link to an image of your choice!**"
      ]
    },
    {
      "cell_type": "code",
      "metadata": {
        "id": "EVZtHTuR771k",
        "colab": {
          "base_uri": "https://localhost:8080/",
          "height": 279
        },
        "outputId": "9f915c37-47db-4625-dfda-bb3adcdfd139"
      },
      "source": [
        "# Load image (image provided is CC0 licensed)\n",
        "img_url = \"https://p0.pikrepo.com/preview/853/907/close-up-photo-of-gray-elephant.jpg\"\n",
        "image = load_image_from_url(img_url)\n",
        "\n",
        "# Run model on image\n",
        "logits = imagenet_module(image)\n",
        "\n",
        "# Show image and predictions\n",
        "show_preds(logits, image[0])"
      ],
      "execution_count": null,
      "outputs": [
        {
          "output_type": "display_data",
          "data": {
            "image/png": "[encoded data removed]",
            "text/plain": [
              "<Figure size 504x288 with 2 Axes>"
            ]
          },
          "metadata": {
            "tags": [],
            "needs_background": "light"
          }
        }
      ]
    },
    {
      "cell_type": "markdown",
      "metadata": {
        "id": "viPVvoFOyPr8"
      },
      "source": [
        "Here the model correctly classifies the photo as an elephant. It is likely an Asian elephant because of the size of its ears."
      ]
    },
    {
      "cell_type": "markdown",
      "metadata": {
        "id": "wRDwXBLzFYFU"
      },
      "source": [
        "We will also try predicting on an image from the dataset we're going to fine-tune on - [TF flowers](https://www.tensorflow.org/datasets/catalog/tf_flowers), which has also been used in [other tutorials](https://www.tensorflow.org/tutorials/load_data/images). This dataset contains 3670 images of 5 classes of flowers.\n",
        "\n",
        "Note that the correct label of the image we're going to predict on (‘tulip’) is not a class in ImageNet and so the model cannot predict that at the moment - let’s see what it tries to do instead."
      ]
    },
    {
      "cell_type": "code",
      "metadata": {
        "id": "M_KTcxDYhZf_",
        "cellView": "both",
        "colab": {
          "base_uri": "https://localhost:8080/"
        },
        "outputId": "60fa9292-57fd-491f-d74e-2cadfdeb79a1"
      },
      "source": [
        "# Import tf_flowers data from tfds\n",
        "\n",
        "# dataset_name = 'CIFAR-10'\n",
        "# ds, info = tfds.load(name=dataset_name, split=['train'], with_info=True)\n",
        "ds, info = tfds.load(\n",
        "    name='cifar10',\n",
        "    split='train',\n",
        "    with_info=True,\n",
        ")\n",
        "# ds = ds[0] <- this threw an error so... i just got rid of it? lol idk what it is for\n",
        "print(ds)\n",
        "num_examples = info.splits['train'].num_examples\n",
        "NUM_CLASSES = 10\n"
      ],
      "execution_count": null,
      "outputs": [
        {
          "output_type": "stream",
          "text": [
            "<PrefetchDataset shapes: {id: (), image: (32, 32, 3), label: ()}, types: {id: tf.string, image: tf.uint8, label: tf.int64}>\n"
          ],
          "name": "stdout"
        }
      ]
    },
    {
      "cell_type": "code",
      "metadata": {
        "id": "ol5TesnUn7bg",
        "colab": {
          "base_uri": "https://localhost:8080/",
          "height": 139
        },
        "cellView": "form",
        "outputId": "728c63b7-9ad0-4516-dd13-7481d1d24b49"
      },
      "source": [
        "#@title Alternative code for loading a dataset\n",
        "#@markdown We provide alternative code for loading `tf_flowers` from an URL in this cell to make it easy for you to try loading your own datasets. \n",
        "\n",
        "#@markdown This code is commented out by default and replaces the cell immediately above. Note that using this option may result in a different example image below.\n",
        "\"\"\"\n",
        "data_dir = tf.keras.utils.get_file(origin='https://www.cs.toronto.edu/~kriz/cifar-10-python.tar.gz',\n",
        "                                         fname='CIFAR-10', untar=True)\n",
        "data_dir = pathlib.Path(data_dir)\n",
        "\n",
        "IMG_HEIGHT = 224\n",
        "IMG_WIDTH = 224\n",
        "\n",
        "CLASS_NAMES = cifar_10_labels  # from plotting helper functions above\n",
        "NUM_CLASSES = len(CLASS_NAMES)\n",
        "num_examples = len(list(data_dir.glob('*/*.jpg')))\n",
        "\n",
        "def get_label(file_path):\n",
        "  # convert the path to a list of path components\n",
        "  parts = tf.strings.split(file_path, os.path.sep)\n",
        "  # The second to last is the class-directory\n",
        "  \n",
        "  return tf.where(parts[-2] == CLASS_NAMES)[0][0]\n",
        "\n",
        "def decode_img(img):\n",
        "  # convert the compressed string to a 3D uint8 tensor\n",
        "  img = tf.image.decode_jpeg(img, channels=3)\n",
        "  return img  \n",
        "\n",
        "def process_path(file_path):\n",
        "  label = get_label(file_path)\n",
        "  # load the raw data from the file as a string\n",
        "  img = tf.io.read_file(file_path)\n",
        "  img = decode_img(img)\n",
        "  features = {'image': img, 'label': label}\n",
        "  return features\n",
        "\n",
        "# list_ds = tf.data.Dataset.list_files(str(data_dir/'*/*'))\n",
        "list_ds = tf.keras.datasets.cifar10.load_data()\n",
        "ds = list_ds.map(process_path, num_parallel_calls=tf.data.experimental.AUTOTUNE)\n",
        "\"\"\""
      ],
      "execution_count": null,
      "outputs": [
        {
          "output_type": "execute_result",
          "data": {
            "application/vnd.google.colaboratory.intrinsic+json": {
              "type": "string"
            },
            "text/plain": [
              "\"\\ndata_dir = tf.keras.utils.get_file(origin='https://www.cs.toronto.edu/~kriz/cifar-10-python.tar.gz',\\n                                         fname='CIFAR-10', untar=True)\\ndata_dir = pathlib.Path(data_dir)\\n\\nIMG_HEIGHT = 224\\nIMG_WIDTH = 224\\n\\nCLASS_NAMES = cifar_10_labels  # from plotting helper functions above\\nNUM_CLASSES = len(CLASS_NAMES)\\nnum_examples = len(list(data_dir.glob('*/*.jpg')))\\n\\ndef get_label(file_path):\\n  # convert the path to a list of path components\\n  parts = tf.strings.split(file_path, os.path.sep)\\n  # The second to last is the class-directory\\n  \\n  return tf.where(parts[-2] == CLASS_NAMES)[0][0]\\n\\ndef decode_img(img):\\n  # convert the compressed string to a 3D uint8 tensor\\n  img = tf.image.decode_jpeg(img, channels=3)\\n  return img  \\n\\ndef process_path(file_path):\\n  label = get_label(file_path)\\n  # load the raw data from the file as a string\\n  img = tf.io.read_file(file_path)\\n  img = decode_img(img)\\n  features = {'image': img, 'label': label}\\n  return features\\n\\n# list_ds = tf.data.Dataset.list_files(str(data_dir/'*/*'))\\nlist_ds = tf.keras.datasets.cifar10.load_data()\\nds = list_ds.map(process_path, num_parallel_calls=tf.data.experimental.AUTOTUNE)\\n\""
            ]
          },
          "metadata": {
            "tags": []
          },
          "execution_count": 16
        }
      ]
    },
    {
      "cell_type": "code",
      "metadata": {
        "id": "CIJyrvKX223E"
      },
      "source": [
        "# Split into train and test sets\n",
        "# We have checked that the classes are reasonably balanced.\n",
        "train_split = 0.9\n",
        "num_train = int(train_split * num_examples)\n",
        "ds_train = ds.take(num_train)\n",
        "ds_test = ds.skip(num_train)\n",
        "\n",
        "DATASET_NUM_TRAIN_EXAMPLES = num_examples"
      ],
      "execution_count": null,
      "outputs": []
    },
    {
      "cell_type": "code",
      "metadata": {
        "id": "R3VbdEmog06U",
        "colab": {
          "base_uri": "https://localhost:8080/",
          "height": 279
        },
        "outputId": "8fa78bb0-9f26-493c-dc58-adf3927b9224"
      },
      "source": [
        "for features in ds_train.take(1):\n",
        "  image = features['image']\n",
        "  image = preprocess_image(image)\n",
        "\n",
        "  # Run model on image\n",
        "  logits = imagenet_module(image)\n",
        "  \n",
        "  # Show image and predictions\n",
        "  show_preds(logits, image[0], correct_cifar_label=features['label'].numpy())"
      ],
      "execution_count": null,
      "outputs": [
        {
          "output_type": "display_data",
          "data": {
            "image/png": "[encoded data removed]",
            "text/plain": [
              "<Figure size 504x288 with 2 Axes>"
            ]
          },
          "metadata": {
            "tags": [],
            "needs_background": "light"
          }
        }
      ]
    },
    {
      "cell_type": "markdown",
      "metadata": {
        "id": "j9futEJDOfzE"
      },
      "source": [
        "In this case, In this case, 'tulip' is not a class in ImageNet, and the model predicts a reasonably similar-looking classe, 'bell pepper'."
      ]
    },
    {
      "cell_type": "markdown",
      "metadata": {
        "id": "yXZXPPVShbb9"
      },
      "source": [
        "## Fine-tuning the BiT model\n",
        "\n",
        "Now we are going to fine-tune the BiT model so it performs better on a specific dataset. Here we are going to use Keras for simplicity and we are going to fine-tune the model on the CIFAR-10 dataset (`cifar_10`). \n",
        "\n",
        "We will use the model we loaded at the start (i.e. the one not fine-tuned on ImageNet) so the model is less biased towards ImageNet-like images.\n",
        "\n",
        "There are two steps:\n",
        "1. Create a new model with a new final layer (which we call the ‘head’), and\n",
        "2. Fine-tune this model using BiT-HyperRule, our hyperparameter heuristic.\n"
      ]
    },
    {
      "cell_type": "markdown",
      "metadata": {
        "id": "hRQcqdj7uIRo"
      },
      "source": [
        "### 1. Creating the new model\n"
      ]
    },
    {
      "cell_type": "markdown",
      "metadata": {
        "id": "H22_7mnyt-kY"
      },
      "source": [
        "\n",
        "To create the new model, we:\n",
        "\n",
        "1. Cut off the BiT model’s original head. This leaves us with the “pre-logits” output.\n",
        " - We do not have to do this if we use the ‘feature extractor’ models ((i.e. all those in subdirectories titled `feature_vectors`), since for those models the head has already been cut off.\n",
        "\n",
        "2. Add a new head with the number of outputs equal to the number of classes of our new task. Note that it is important that we initialise the head to all zeroes."
      ]
    },
    {
      "cell_type": "markdown",
      "metadata": {
        "id": "z2pc8tmtcdgZ"
      },
      "source": [
        "#### Add new head to the BiT model\n",
        "\n",
        "Since we want to use BiT on a new dataset (not the one it was trained on), we need to replace the final layer with one that has the correct number of output classes. This final layer is called the head.\n",
        "\n",
        "Note that it is important to **initialise the new head to all zeros**."
      ]
    },
    {
      "cell_type": "code",
      "metadata": {
        "id": "s2RGgy4ghgsh"
      },
      "source": [
        "# Add new head to the BiT model\n",
        "\n",
        "class MyBiTModel(tf.keras.Model):\n",
        "  \"\"\"BiT with a new head.\"\"\"\n",
        "\n",
        "  def __init__(self, num_classes, module):\n",
        "    super().__init__()\n",
        "\n",
        "    self.num_classes = num_classes\n",
        "    self.head = tf.keras.layers.Dense(num_classes, kernel_initializer='zeros')\n",
        "    self.bit_model = module\n",
        "  \n",
        "  def call(self, images):\n",
        "    # No need to cut head off since we are using feature extractor model\n",
        "    bit_embedding = self.bit_model(images)\n",
        "    return self.head(bit_embedding)\n",
        "\n",
        "model = MyBiTModel(num_classes=NUM_CLASSES, module=module)"
      ],
      "execution_count": null,
      "outputs": []
    },
    {
      "cell_type": "markdown",
      "metadata": {
        "id": "FEYhH53WdmjJ"
      },
      "source": [
        "### Data and preprocessing\n",
        "\n",
        "\n"
      ]
    },
    {
      "cell_type": "markdown",
      "metadata": {
        "id": "HqNQ01J0u4xs"
      },
      "source": [
        "#### BiT Hyper-Rule: Our hyperparameter selection heuristic\n",
        "When we fine-tune the model, we use BiT-HyperRule, our heuristic for choosing hyperparameters for downstream fine-tuning. This is **not a hyperparameter sweep** - given a dataset, it specifies one set of hyperparameters that we’ve seen produce good results. You can often obtain better results by running a more expensive hyperparameter sweep, but BiT-HyperRule is an effective way of getting good initial results on your dataset.\n",
        "\n",
        "**Hyperparameter heuristic details**\n",
        "\n",
        "In BiT-HyperRule, we use a vanilla SGD optimiser with an initial learning rate of 0.003, momentum 0.9 and batch size 512. We decay the learning rate by a factor of 10 at 30%, 60% and 90% of the training steps. \n",
        "\n",
        "As data preprocessing, we resize the image, take a random crop, and then do a random horizontal flip (details in table below). We do random crops and horizontal flips for all tasks except those where such actions destroy label semantics. E.g. we don’t apply random crops to counting tasks, or random horizontal flip to tasks where we’re meant to predict the orientation of an object.\n",
        "\n",
        "\n",
        "Image area | Resize to | Take random crop of size\n",
        "--- | --- | ---\n",
        "Smaller than 96 x 96 px | 160 x 160 px | 128 x 128 px\n",
        "At least 96 x 96 px | 512 x 512 px | 480 x 480 px\n",
        "\n",
        "*Table 1: Downstream resizing and random cropping details. If images are larger, we resize them to a larger fixed size to take advantage of benefits from fine-tuning on higher resolution.*\n"
      ]
    },
    {
      "cell_type": "markdown",
      "metadata": {
        "id": "lamKHdpM4KOk"
      },
      "source": [
        "We also use MixUp for datasets with more than 20k examples. Since the dataset used in this tutorial does not use MixUp, for simplicity and speed, we do not include it in this colab, but include it in our [github repo implementation](https://github.com/google-research/big_transfer)."
      ]
    },
    {
      "cell_type": "code",
      "metadata": {
        "id": "jp5APPRlheCC",
        "cellView": "form"
      },
      "source": [
        "#@title Set dataset-dependent hyperparameters\n",
        "\n",
        "#@markdown Here we set dataset-dependent hyperparameters. For example, our dataset of flowers has 3670 images of varying size (a few hundred x a few hundred pixels), so the image size is larger than 96x96 and the dataset size is <20k examples. However, for speed reasons (since this is a tutorial and we are training on a single GPU), we will select the `<96x96 px` option and train on lower resolution images. As we will see, we can still attain strong results.\n",
        "\n",
        "#@markdown **Algorithm details: how are the hyperparameters dataset-dependent?** \n",
        "\n",
        "#@markdown It's quite intuitive - we resize images to a smaller fixed size if they are smaller than 96 x 96px and to a larger fixed size otherwise. The number of steps we fine-tune for is larger for larger datasets. \n",
        "\n",
        "IMAGE_SIZE = \"=\\u003C96x96 px\" #@param [\"=<96x96 px\",\"> 96 x 96 px\"]\n",
        "DATASET_SIZE = \"\\u003C20k examples\" #@param [\"<20k examples\", \"20k-500k examples\", \">500k examples\"]\n",
        "\n",
        "if IMAGE_SIZE == \"=<96x96 px\":\n",
        "  RESIZE_TO = 160\n",
        "  CROP_TO = 128\n",
        "else:\n",
        "  RESIZE_TO = 512\n",
        "  CROP_TO = 480\n",
        "\n",
        "if DATASET_SIZE == \"<20k examples\":\n",
        "  SCHEDULE_LENGTH = 500\n",
        "  SCHEDULE_BOUNDARIES = [200, 300, 400]\n",
        "elif DATASET_SIZE == \"20k-500k examples\":\n",
        "  SCHEDULE_LENGTH = 10000\n",
        "  SCHEDULE_BOUNDARIES = [3000, 6000, 9000]\n",
        "else:\n",
        "  SCHEDULE_LENGTH = 20000\n",
        "  SCHEDULE_BOUNDARIES = [6000, 12000, 18000]"
      ],
      "execution_count": null,
      "outputs": []
    },
    {
      "cell_type": "markdown",
      "metadata": {
        "id": "bJVjSZuVCCBr"
      },
      "source": [
        "**Tip**: if you are running out of memory, decrease the batch size. A way to adjust relevant parameters is to linearly scale the schedule length and learning rate.\n",
        "\n",
        "```\n",
        "SCHEDULE_LENGTH = SCHEDULE_LENGTH * 512 / BATCH_SIZE\n",
        "lr = 0.003 * BATCH_SIZE / 512\n",
        "```\n",
        "\n",
        "These adjustments have already been coded in the cells below - you only have to change the `BATCH_SIZE`. If you change the batch size, please re-run the cell above as well to make sure the `SCHEDULE_LENGTH` you are starting from is correct as opposed to already altered from a previous run."
      ]
    },
    {
      "cell_type": "code",
      "metadata": {
        "id": "3DiIrQFBhe9R"
      },
      "source": [
        "# Preprocessing helper functions\n",
        "\n",
        "# Create data pipelines for training and testing:\n",
        "BATCH_SIZE = 512\n",
        "SCHEDULE_LENGTH = SCHEDULE_LENGTH * 512 / BATCH_SIZE\n",
        "\n",
        "STEPS_PER_EPOCH = 10\n",
        "\n",
        "def cast_to_tuple(features):\n",
        "  return (features['image'], features['label'])\n",
        "  \n",
        "def preprocess_train(features):\n",
        "  # Apply random crops and horizontal flips for all tasks \n",
        "  # except those for which cropping or flipping destroys the label semantics\n",
        "  # (e.g. predict orientation of an object)\n",
        "  features['image'] = tf.image.random_flip_left_right(features['image'])\n",
        "  features['image'] = tf.image.resize(features['image'], [RESIZE_TO, RESIZE_TO])\n",
        "  features['image'] = tf.image.random_crop(features['image'], [CROP_TO, CROP_TO, 3])\n",
        "  features['image'] = tf.cast(features['image'], tf.float32) / 255.0\n",
        "  return features\n",
        "\n",
        "def preprocess_test(features):\n",
        "  features['image'] = tf.image.resize(features['image'], [RESIZE_TO, RESIZE_TO])\n",
        "  features['image'] = tf.cast(features['image'], tf.float32) / 255.0\n",
        "  return features\n",
        "\n",
        "pipeline_train = (ds_train\n",
        "                  .shuffle(10000)\n",
        "                  .repeat(int(SCHEDULE_LENGTH * BATCH_SIZE / DATASET_NUM_TRAIN_EXAMPLES * STEPS_PER_EPOCH) + 1 + 50)  # repeat dataset_size / num_steps\n",
        "                  .map(preprocess_train, num_parallel_calls=8)\n",
        "                  .batch(BATCH_SIZE)\n",
        "                  .map(cast_to_tuple)  # for keras model.fit\n",
        "                  .prefetch(2))\n",
        "\n",
        "pipeline_test = (ds_test.map(preprocess_test, num_parallel_calls=1)\n",
        "                  .map(cast_to_tuple)  # for keras model.fit\n",
        "                  .batch(BATCH_SIZE)\n",
        "                  .prefetch(2))"
      ],
      "execution_count": null,
      "outputs": []
    },
    {
      "cell_type": "markdown",
      "metadata": {
        "id": "xU1SoL32eD4f"
      },
      "source": [
        "### Fine-tuning loop"
      ]
    },
    {
      "cell_type": "markdown",
      "metadata": {
        "id": "UmckWR7wz2d2"
      },
      "source": [
        "The fine-tuning will take about 15 minutes. If you wish, you can manually set the number of epochs to be 10 instead of 50 for the tutorial, and you will likely still obtain a model with validation accuracy > 99%."
      ]
    },
    {
      "cell_type": "code",
      "metadata": {
        "id": "Zx60lxfzhoTQ"
      },
      "source": [
        "# Define optimiser and loss\n",
        "\n",
        "lr = 0.003 * BATCH_SIZE / 512 \n",
        "\n",
        "# Decay learning rate by a factor of 10 at SCHEDULE_BOUNDARIES.\n",
        "lr_schedule = tf.keras.optimizers.schedules.PiecewiseConstantDecay(boundaries=SCHEDULE_BOUNDARIES, \n",
        "                                                                   values=[lr, lr*0.1, lr*0.001, lr*0.0001])\n",
        "optimizer = tf.keras.optimizers.SGD(learning_rate=lr_schedule, momentum=0.9)\n",
        "\n",
        "loss_fn = tf.keras.losses.SparseCategoricalCrossentropy(from_logits=True)"
      ],
      "execution_count": null,
      "outputs": []
    },
    {
      "cell_type": "code",
      "metadata": {
        "id": "qJmqsAFmeQZd",
        "colab": {
          "base_uri": "https://localhost:8080/"
        },
        "outputId": "00f41b2e-b854-42da-888a-e38b1fd0204a"
      },
      "source": [
        "model.compile(optimizer=optimizer,\n",
        "              loss=loss_fn,\n",
        "              metrics=['accuracy'])\n",
        "\n",
        "# Fine-tune model\n",
        "history = model.fit(\n",
        "    pipeline_train,\n",
        "    batch_size=BATCH_SIZE,\n",
        "    steps_per_epoch=STEPS_PER_EPOCH,\n",
        "    epochs=10,\n",
        "    # epochs= int(SCHEDULE_LENGTH / STEPS_PER_EPOCH),  # TODO: replace with `epochs=10` here to shorten fine-tuning for tutorial if you wish\n",
        "    # validation_data=pipeline_test  # here we are only using \n",
        "                                   # this data to evaluate our performance\n",
        ")"
      ],
      "execution_count": null,
      "outputs": [
        {
          "output_type": "stream",
          "text": [
            "Epoch 1/10\n",
            "10/10 [==============================] - 28s 2s/step - loss: 0.2592 - accuracy: 0.9264\n",
            "Epoch 2/10\n",
            "10/10 [==============================] - 24s 2s/step - loss: 0.2924 - accuracy: 0.9220\n",
            "Epoch 3/10\n",
            "10/10 [==============================] - 24s 2s/step - loss: 0.2892 - accuracy: 0.9126\n",
            "Epoch 4/10\n",
            "10/10 [==============================] - 24s 2s/step - loss: 0.2660 - accuracy: 0.9246\n",
            "Epoch 5/10\n",
            "10/10 [==============================] - 24s 2s/step - loss: 0.2726 - accuracy: 0.9220\n",
            "Epoch 6/10\n",
            "10/10 [==============================] - 24s 2s/step - loss: 0.2496 - accuracy: 0.9253\n",
            "Epoch 7/10\n",
            "10/10 [==============================] - 24s 2s/step - loss: 0.2360 - accuracy: 0.9268\n",
            "Epoch 8/10\n",
            "10/10 [==============================] - 24s 2s/step - loss: 0.2428 - accuracy: 0.9242\n",
            "Epoch 9/10\n",
            "10/10 [==============================] - 24s 2s/step - loss: 0.2279 - accuracy: 0.9260\n",
            "Epoch 10/10\n",
            "10/10 [==============================] - 24s 2s/step - loss: 0.1915 - accuracy: 0.9379\n"
          ],
          "name": "stdout"
        }
      ]
    },
    {
      "cell_type": "markdown",
      "metadata": {
        "id": "8p4YCZnivV7K"
      },
      "source": [
        "We see that our model attains over 98-99% training and validation accuracy."
      ]
    },
    {
      "cell_type": "markdown",
      "metadata": {
        "id": "-0ahkv3ZI0Wa"
      },
      "source": [
        "## Save fine-tuned model for later use\n",
        "\n",
        "It is easy to save your model to use later on. You can then load your saved model in exactly the same way as we loaded the BiT models at the start.\n"
      ]
    },
    {
      "cell_type": "code",
      "metadata": {
        "id": "EOYOLzWblDSf",
        "colab": {
          "base_uri": "https://localhost:8080/"
        },
        "outputId": "fa035cf3-9011-4604-ccec-830e26d66139"
      },
      "source": [
        "# Save fine-tuned model as SavedModel\n",
        "export_module_dir = '/tmp/my_saved_bit_model/'\n",
        "tf.saved_model.save(model, export_module_dir)"
      ],
      "execution_count": null,
      "outputs": [
        {
          "output_type": "stream",
          "text": [
            "INFO:tensorflow:Assets written to: /tmp/my_saved_bit_model/assets\n"
          ],
          "name": "stdout"
        },
        {
          "output_type": "stream",
          "text": [
            "INFO:tensorflow:Assets written to: /tmp/my_saved_bit_model/assets\n"
          ],
          "name": "stderr"
        }
      ]
    },
    {
      "cell_type": "code",
      "metadata": {
        "id": "YlgQVjWvlf_6"
      },
      "source": [
        "# Load saved model\n",
        "saved_module = hub.KerasLayer(export_module_dir, trainable=True)"
      ],
      "execution_count": null,
      "outputs": []
    },
    {
      "cell_type": "code",
      "metadata": {
        "id": "aMKx3A0Z0h6E",
        "colab": {
          "base_uri": "https://localhost:8080/",
          "height": 279
        },
        "outputId": "70d2cde5-c541-4756-ff84-3d51ffb07b7a"
      },
      "source": [
        "# Visualise predictions from new model\n",
        "for features in ds_train.take(1):\n",
        "  image = features['image']\n",
        "  image = preprocess_image(image)\n",
        "  image = tf.image.resize(image, [CROP_TO, CROP_TO])\n",
        "\n",
        "  # Run model on image\n",
        "  logits = saved_module(image)\n",
        "  \n",
        "  # Show image and predictions\n",
        "  show_preds(logits, image[0], correct_cifar_label=features['label'].numpy(), cifar_logits=True)"
      ],
      "execution_count": null,
      "outputs": [
        {
          "output_type": "display_data",
          "data": {
            "image/png": "[encoded data removed]",
            "text/plain": [
              "<Figure size 504x288 with 2 Axes>"
            ]
          },
          "metadata": {
            "tags": [],
            "needs_background": "light"
          }
        }
      ]
    },
    {
      "cell_type": "markdown",
      "metadata": {
        "id": "-0voqBidA_Wc"
      },
      "source": [
        "Voila - we now have a model that predicts tulips as tulips and not bell peppers. :)"
      ]
    },
    {
      "cell_type": "markdown",
      "metadata": {
        "id": "e_y12tl_vj9m"
      },
      "source": [
        "## Summary\n",
        "\n",
        "In this post, you learned about the key components we used to train models that can transfer well to many different tasks. You also learned how to load one of our BiT models, fine-tune it on your target task and save the resulting model. Hope this helped and happy fine-tuning!\n"
      ]
    },
    {
      "cell_type": "markdown",
      "metadata": {
        "id": "HLUVIYWG10yX"
      },
      "source": [
        "## Acknowledgements\n",
        "\n",
        "This colab is based on work by Alex Kolesnikov, Lucas Beyer, Xiaohua Zhai, Joan Puigcerver, Jessica Yung, Sylvain Gelly and Neil Houlsby. We thank many members of Brain Research Zurich and the TensorFlow team for their feedback, especially Luiz Gustavo Martins and Marcin Michalski.\n"
      ]
    }
  ]
}